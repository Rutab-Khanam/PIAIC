{
 "cells": [
  {
   "cell_type": "markdown",
   "metadata": {},
   "source": [
    "# 1) Calculate Area of a Circle"
   ]
  },
  {
   "cell_type": "code",
   "execution_count": null,
   "metadata": {},
   "outputs": [],
   "source": [
    "radius = float(input(\"Enter Radius: \"))\n",
    "area = 3.141592654 * radius * radius\n",
    "\n",
    "print(area)"
   ]
  },
  {
   "cell_type": "markdown",
   "metadata": {},
   "source": [
    "# 2) Check Number Either Positive Negative OR Zero"
   ]
  },
  {
   "cell_type": "code",
   "execution_count": 12,
   "metadata": {},
   "outputs": [
    {
     "name": "stdout",
     "output_type": "stream",
     "text": [
      "Enter a number: 5\n",
      "Positive Number Entered\n"
     ]
    }
   ],
   "source": [
    "number = int(input(\"Enter a number: \"))\n",
    "if number == 0:\n",
    "    print(\"Zero Entered\")\n",
    "elif number >= 1:\n",
    "    print(\"Positive Number Entered\")\n",
    "elif number < 1:\n",
    "    print(\"Negative Number Entered\")"
   ]
  },
  {
   "cell_type": "markdown",
   "metadata": {},
   "source": [
    "# 3) Divisibility Check of Two Numbers"
   ]
  },
  {
   "cell_type": "code",
   "execution_count": 16,
   "metadata": {},
   "outputs": [
    {
     "name": "stdout",
     "output_type": "stream",
     "text": [
      "Enter numerator: 8\n",
      "Enter denominator: 2\n",
      "Number  8  is completely divisible by  2\n"
     ]
    }
   ],
   "source": [
    "num1 = int(input(\"Enter numerator: \"))\n",
    "num2 = int(input(\"Enter denominator: \"))\n",
    "\n",
    "if (num1 % num2) == 0:\n",
    "    print(\"Number \", num1, \" is completely divisible by \", num2)\n",
    "elif (num1 % num2) != 0:\n",
    "    print(\"Number \", num1, \" is not completely divisible by \", num2)"
   ]
  },
  {
   "cell_type": "markdown",
   "metadata": {},
   "source": [
    "# 4) Days Calculator"
   ]
  },
  {
   "cell_type": "code",
   "execution_count": 12,
   "metadata": {},
   "outputs": [
    {
     "name": "stdout",
     "output_type": "stream",
     "text": [
      "Enter a date in (dd/mm/yy) format: 03/03/2020\n",
      "Enter a date in (dd/mm/yy) format: 16/03/2020\n",
      "There are  13  days in between  03/03/2020  and  16/03/2020\n"
     ]
    }
   ],
   "source": [
    "import datetime\n",
    "date1 = input(\"Enter a date in (dd/mm/yy) format: \")\n",
    "date2 = input(\"Enter a date in (dd/mm/yy) format: \")\n",
    "a = datetime.datetime.strptime(date1,\"%d/%m/%Y\")\n",
    "b = datetime.datetime.strptime(date2,\"%d/%m/%Y\")\n",
    "(b-a).days\n",
    "print(\"There are \", (b-a).days, \" days in between \", date1, \" and \", date2)"
   ]
  },
  {
   "cell_type": "markdown",
   "metadata": {},
   "source": [
    "# 5) Calculate Volume of a Sphere"
   ]
  },
  {
   "cell_type": "code",
   "execution_count": 4,
   "metadata": {
    "scrolled": true
   },
   "outputs": [
    {
     "name": "stdout",
     "output_type": "stream",
     "text": [
      "Enter Radius of Sphere: 1\n",
      "Volume of the Sphere with Radius  1  is  4.1866666666666665\n"
     ]
    }
   ],
   "source": [
    "radius = int(input(\"Enter Radius of Sphere: \"))\n",
    "volume = 4/3 * 3.14 * radius * radius * radius\n",
    "\n",
    "print(\"Volume of the Sphere with Radius \", radius, \" is \", volume)"
   ]
  },
  {
   "cell_type": "markdown",
   "metadata": {},
   "source": [
    "# 6) Copy String n times"
   ]
  },
  {
   "cell_type": "code",
   "execution_count": 6,
   "metadata": {},
   "outputs": [
    {
     "name": "stdout",
     "output_type": "stream",
     "text": [
      "Enter String: Hi\n",
      "How many copies of String you need: 4\n",
      "4  copies of  Hi  are  HiHiHiHi\n"
     ]
    }
   ],
   "source": [
    "string = input(\"Enter String: \")\n",
    "copies = int(input(\"How many copies of String you need: \"))\n",
    "\n",
    "# loop = 1\n",
    "# while loop <= copies:\n",
    "#     print(string)\n",
    "#     loop = loop + 1\n",
    "\n",
    "print(copies, \" copies of \", string, \" are \", string * copies)"
   ]
  },
  {
   "cell_type": "markdown",
   "metadata": {},
   "source": [
    "# 7) Check if Number is Even or Odd"
   ]
  },
  {
   "cell_type": "code",
   "execution_count": 8,
   "metadata": {},
   "outputs": [
    {
     "name": "stdout",
     "output_type": "stream",
     "text": [
      "Enter Number: 8\n",
      "8  is Even\n"
     ]
    }
   ],
   "source": [
    "number = int(input(\"Enter Number: \"))\n",
    "\n",
    "if number % 2 == 0:\n",
    "    print(number, \" is Even\")\n",
    "if number % 2 != 0:\n",
    "    print(number, \" is Odd\")"
   ]
  },
  {
   "cell_type": "markdown",
   "metadata": {},
   "source": [
    "# 8) Vowel Tester"
   ]
  },
  {
   "cell_type": "code",
   "execution_count": 6,
   "metadata": {},
   "outputs": [
    {
     "name": "stdout",
     "output_type": "stream",
     "text": [
      "Enter a character: z\n",
      "Letter  z  is not Vowel\n"
     ]
    }
   ],
   "source": [
    "vowels = [\"A\", \"a\", \"E\", \"e\", \"i\", \"I\", \"o\", \"O\", \"u\", \"U\"]\n",
    "\n",
    "letter = input(\"Enter a character: \")\n",
    "\n",
    "if letter in vowels:\n",
    "    print(\"Letter \", letter, \" is Vowel\")\n",
    "else:\n",
    "    print(\"Letter \", letter, \" is not Vowel\")"
   ]
  },
  {
   "cell_type": "markdown",
   "metadata": {},
   "source": [
    "# 9) Triangle Area"
   ]
  },
  {
   "cell_type": "code",
   "execution_count": 7,
   "metadata": {},
   "outputs": [
    {
     "name": "stdout",
     "output_type": "stream",
     "text": [
      "Enter magnitude of Triangle base: 4\n",
      "Enter magnitude of Triangle height: 4\n",
      "Area of a Triangle with Height  4  and Base  4  is  8.0\n"
     ]
    }
   ],
   "source": [
    "base = int(input(\"Enter magnitude of Triangle base: \"))\n",
    "height = int(input(\"Enter magnitude of Triangle height: \"))\n",
    "\n",
    "area = (height * base) / 2\n",
    "\n",
    "print(\"Area of a Triangle with Height \", height, \" and Base \", base, \" is \", area)"
   ]
  },
  {
   "cell_type": "markdown",
   "metadata": {},
   "source": [
    "# 10) Calculate Interest"
   ]
  },
  {
   "cell_type": "raw",
   "metadata": {},
   "source": [
    "Write a Python program to calculate the future value of a specified principal amount, rate of interest, and a number of years"
   ]
  },
  {
   "cell_type": "code",
   "execution_count": 2,
   "metadata": {},
   "outputs": [
    {
     "name": "stdout",
     "output_type": "stream",
     "text": [
      "Please Enter Principal amount: 10000\n",
      "Please Enter Rate of interest in %: 0.1\n",
      "Enter number of Years for investment: 5\n",
      "After  5  years your principal amount  10000  over an interest rate of  0.1 % will be  16105.1\n"
     ]
    }
   ],
   "source": [
    "amount = int(input(\"Please Enter Principal amount: \"))\n",
    "rate = float(input(\"Please Enter Rate of interest in %: \"))\n",
    "years = int(input(\"Enter number of Years for investment: \"))\n",
    "\n",
    "future_value = amount * ((1 + (rate * 1)) ** years)\n",
    "\n",
    "value = round(future_value,1)\n",
    "\n",
    "print(\"After \", years, \" years your principal amount \", amount, \" over an interest rate of \", rate, \"% will be \", value)"
   ]
  },
  {
   "cell_type": "markdown",
   "metadata": {},
   "source": [
    "# 11) Euclidean Distance   (btw the points (x1, y1) and (x2, y2))"
   ]
  },
  {
   "cell_type": "code",
   "execution_count": 13,
   "metadata": {},
   "outputs": [
    {
     "name": "stdout",
     "output_type": "stream",
     "text": [
      "Enter Co-ordinate for x1: 2\n",
      "Enter Co-ordinate for y1: 4\n",
      "Enter Co-ordinate for x2: 4\n",
      "Enter Co-ordinate for y2: 4\n",
      "Distance between points ( 2 , 4 ) and ( 4 , 4 ) is 2\n"
     ]
    }
   ],
   "source": [
    "import math\n",
    "x1 = int(input(\"Enter Co-ordinate for x1: \"))\n",
    "y1 = int(input(\"Enter Co-ordinate for y1: \"))\n",
    "x2 = int(input(\"Enter Co-ordinate for x2: \"))\n",
    "y2 = int(input(\"Enter Co-ordinate for y2: \"))\n",
    "\n",
    "distance = round(math.sqrt((x2 - x1)**2 - (y2 - y1)**2))\n",
    "\n",
    "print(\"Distance between points (\", x1, \",\", y1, \") and (\", x2, \",\", y2, \") is\", distance)"
   ]
  },
  {
   "cell_type": "markdown",
   "metadata": {},
   "source": [
    "# 12) Feet to Centimeter Converter"
   ]
  },
  {
   "cell_type": "code",
   "execution_count": 7,
   "metadata": {},
   "outputs": [
    {
     "name": "stdout",
     "output_type": "stream",
     "text": [
      "Enter height in feet: 5\n",
      "There are 152.4 Cm in 5 ft\n"
     ]
    }
   ],
   "source": [
    "feet = int(input(\"Enter height in feet: \"))\n",
    "centimeter = feet * 30.48\n",
    "\n",
    "print(\"There are\", centimeter, \"Cm in\", feet, \"ft\")"
   ]
  },
  {
   "cell_type": "markdown",
   "metadata": {},
   "source": [
    "# 13) BMI Calculator"
   ]
  },
  {
   "cell_type": "code",
   "execution_count": 11,
   "metadata": {},
   "outputs": [
    {
     "name": "stdout",
     "output_type": "stream",
     "text": [
      "Enter Height in Cm: 180\n",
      "Enter Weight in Kg: 75\n",
      "Your BMI is 23.15\n"
     ]
    }
   ],
   "source": [
    "height_in_Cm = int(input(\"Enter Height in Cm: \"))\n",
    "weight = int(input(\"Enter Weight in Kg: \"))\n",
    "\n",
    "height_in_meter = height_in_Cm / 100\n",
    "\n",
    "BMI = round(weight / (height_in_meter)**2, 2)\n",
    "\n",
    "print(\"Your BMI is\", BMI)"
   ]
  },
  {
   "cell_type": "markdown",
   "metadata": {},
   "source": [
    "# 14) Sum of n Positive Integers"
   ]
  },
  {
   "cell_type": "code",
   "execution_count": 35,
   "metadata": {},
   "outputs": [
    {
     "name": "stdout",
     "output_type": "stream",
     "text": [
      "Enter value of n: 5\n",
      "Sum of positive n integers till 5 is 15\n"
     ]
    }
   ],
   "source": [
    "number = int(input(\"Enter value of n: \"))\n",
    "\n",
    "if number < 0:\n",
    "    print(\"Enter a positive number\")\n",
    "# else:\n",
    "#     sum = 0    \n",
    "#     while number > 0:\n",
    "#         sum = sum + number        \n",
    "#         number = number - 1\n",
    "\n",
    "sum = number * (number+1) // 2\n",
    "    \n",
    "print(\"Sum of positive n integers till\", number, \"is\", sum)"
   ]
  },
  {
   "cell_type": "markdown",
   "metadata": {},
   "source": [
    "# 15) Digits Sum of a Number"
   ]
  },
  {
   "cell_type": "code",
   "execution_count": 69,
   "metadata": {},
   "outputs": [
    {
     "name": "stdout",
     "output_type": "stream",
     "text": [
      "Enter a number: 123\n",
      "Sum of 1 + 2 + 3 is 6\n"
     ]
    }
   ],
   "source": [
    "number = list(input(\"Enter a number: \"))\n",
    "\n",
    "num = \"\".join(number)\n",
    "\n",
    "sum = 0\n",
    "for i in num:\n",
    "    sum = sum + int(i)\n",
    "\n",
    "# print(*number)\n",
    "\n",
    "print(\"Sum of \", end = \"\") \n",
    "print(*number, sep = \" + \", end = \"\")\n",
    "print(\" is \", end = \"\")\n",
    "print(sum)\n"
   ]
  },
  {
   "cell_type": "markdown",
   "metadata": {},
   "source": [
    "\n",
    "# 16) Decimal To Binary Converter"
   ]
  },
  {
   "cell_type": "code",
   "execution_count": 39,
   "metadata": {},
   "outputs": [
    {
     "name": "stdout",
     "output_type": "stream",
     "text": [
      "Enter a decimal number: 5\n",
      "Binary Representation of 5 is 101\n"
     ]
    }
   ],
   "source": [
    "decimal = int(input(\"Enter a decimal number: \"))\n",
    "\n",
    "binary = bin(decimal).replace(\"0b\",\"\")\n",
    "\n",
    "print(\"Binary Representation of\", decimal, \"is\", binary)"
   ]
  },
  {
   "cell_type": "markdown",
   "metadata": {},
   "source": [
    "# 17) Binary To Decimal Converter"
   ]
  },
  {
   "cell_type": "code",
   "execution_count": 40,
   "metadata": {},
   "outputs": [
    {
     "name": "stdout",
     "output_type": "stream",
     "text": [
      "Enter a Binary number: 101\n",
      "5\n"
     ]
    }
   ],
   "source": [
    "binary = input(\"Enter a Binary number: \")\n",
    "\n",
    "print(int(binary,2))"
   ]
  },
  {
   "cell_type": "markdown",
   "metadata": {},
   "source": [
    "# 18) Vowel and Consonants Counter"
   ]
  },
  {
   "cell_type": "code",
   "execution_count": 83,
   "metadata": {},
   "outputs": [
    {
     "name": "stdout",
     "output_type": "stream",
     "text": [
      "Enter a string: QuickBrownFoxJumpsOvertheDog\n",
      "Vowels:  9\n",
      "Consonants:  19\n"
     ]
    }
   ],
   "source": [
    "str1 = input(\"Enter a string: \")\n",
    "\n",
    "vowels = 0\n",
    "consonants = 0\n",
    "\n",
    "for i in str1:\n",
    "    if(i == 'a' or i == 'e' or i == 'i' or i == 'o' or i == 'u'\n",
    "       or i == 'A' or i == 'E' or i == 'I' or i == 'O' or i == 'U'):\n",
    "        vowels = vowels + 1\n",
    "    else:\n",
    "        consonants = consonants + 1\n",
    "        \n",
    "print(\"Vowels: \", vowels)\n",
    "print(\"Consonants: \", consonants)"
   ]
  },
  {
   "cell_type": "markdown",
   "metadata": {},
   "source": [
    "# 19) Palindrome tester"
   ]
  },
  {
   "cell_type": "code",
   "execution_count": 97,
   "metadata": {},
   "outputs": [
    {
     "name": "stdout",
     "output_type": "stream",
     "text": [
      "Enter text: Hey\n",
      "Text  Hey  is not a Palindrome\n"
     ]
    }
   ],
   "source": [
    "text = input(\"Enter text: \")\n",
    "\n",
    "# print(text[::-1])\n",
    "\n",
    "rev = \"\".join(reversed(text))\n",
    "\n",
    "if text == rev:\n",
    "    print(\"Text \", text, \" is Palindrome\")\n",
    "else:\n",
    "    print(\"Text \", text, \" is not a Palindrome\")"
   ]
  },
  {
   "cell_type": "markdown",
   "metadata": {},
   "source": [
    "# 20) Count Alphabets, Numbers and Special Characters"
   ]
  },
  {
   "cell_type": "code",
   "execution_count": 4,
   "metadata": {},
   "outputs": [
    {
     "name": "stdout",
     "output_type": "stream",
     "text": [
      "Enter text: Python 3.2\n",
      "Alphabets:  6\n",
      "Numbers:  2\n",
      "Special Characters:  1\n",
      "Space:  1\n"
     ]
    }
   ],
   "source": [
    "text = input(\"Enter text: \")\n",
    "alpha = 0\n",
    "number = 0\n",
    "special = 0\n",
    "space = 0\n",
    "\n",
    "for i in text:\n",
    "    if i.isalpha():\n",
    "        alpha = alpha + 1\n",
    "    if i.isdigit():\n",
    "        number = number + 1\n",
    "    if i.isspace():\n",
    "        space = space + 1\n",
    "    else:\n",
    "        special = len(text) - (alpha + number + space)\n",
    "print(\"Alphabets: \", alpha)\n",
    "print(\"Numbers: \", number)\n",
    "print(\"Special Characters: \", special)\n",
    "print(\"Space: \", space)"
   ]
  },
  {
   "cell_type": "markdown",
   "metadata": {},
   "source": [
    "# 21) Write a Python program to Construct the following Pattern"
   ]
  },
  {
   "cell_type": "raw",
   "metadata": {},
   "source": [
    "\n",
    "*\n",
    "**\n",
    "***\n",
    "****\n",
    "*****\n",
    "****\n",
    "***\n",
    "**\n",
    "*"
   ]
  },
  {
   "cell_type": "code",
   "execution_count": 31,
   "metadata": {},
   "outputs": [
    {
     "name": "stdout",
     "output_type": "stream",
     "text": [
      "*\n",
      "**\n",
      "***\n",
      "****\n",
      "*****\n",
      "****\n",
      "***\n",
      "**\n",
      "*\n",
      "\n"
     ]
    }
   ],
   "source": [
    "steric = \"*\"\n",
    "for i in range(0,5):\n",
    "    i = i + 1    \n",
    "    print(steric * i)\n",
    "\n",
    "while i != 0:    \n",
    "    i = i - 1\n",
    "    print(steric * i)"
   ]
  },
  {
   "cell_type": "markdown",
   "metadata": {},
   "source": [
    "# 22) Write a Python program to Construct the following Pattern"
   ]
  },
  {
   "cell_type": "raw",
   "metadata": {},
   "source": [
    "1\n",
    "1 2\n",
    "1 2 3\n",
    "1 2 3 4\n",
    "1 2 3 4 5\n",
    "1 2 3 4\n",
    "1 2 3\n",
    "1 2\n",
    "1"
   ]
  },
  {
   "cell_type": "code",
   "execution_count": 44,
   "metadata": {},
   "outputs": [
    {
     "name": "stdout",
     "output_type": "stream",
     "text": [
      "1\n",
      "1 2\n",
      "1 2 3\n",
      "1 2 3 4\n",
      "1 2 3 4 5\n",
      "1 2 3 4\n",
      "1 2 3\n",
      "1 2\n",
      "1\n"
     ]
    }
   ],
   "source": [
    "\n",
    "j = 0\n",
    "for i in range(0,5):\n",
    "    for j in range(i):\n",
    "        j = j + 1\n",
    "        print(j, end = \" \")\n",
    "    \n",
    "    i = i + 1   \n",
    "    print(i)\n",
    "for i in range(3, 0, -1):\n",
    "    for j in range(i):\n",
    "        j = j + 1\n",
    "        print(j, end = \" \") \n",
    "    i = i + 1   \n",
    "    print(i)\n",
    "print(1)"
   ]
  },
  {
   "cell_type": "markdown",
   "metadata": {},
   "source": [
    "# 23) Write a Python program to Construct the following Pattern"
   ]
  },
  {
   "cell_type": "raw",
   "metadata": {},
   "source": [
    "1\n",
    "22\n",
    "333\n",
    "4444\n",
    "55555\n",
    "666666\n",
    "7777777\n",
    "88888888\n",
    "999999999"
   ]
  },
  {
   "cell_type": "code",
   "execution_count": 45,
   "metadata": {},
   "outputs": [
    {
     "name": "stdout",
     "output_type": "stream",
     "text": [
      "1\n",
      "22\n",
      "333\n",
      "4444\n",
      "55555\n",
      "666666\n",
      "7777777\n",
      "88888888\n",
      "999999999\n"
     ]
    }
   ],
   "source": [
    "number = 1\n",
    "for i in range(0,9):\n",
    "    for j in range(i):\n",
    "        j = i + 1\n",
    "        print(j, end = \"\")\n",
    "    i = i + 1    \n",
    "    print(i)"
   ]
  }
 ],
 "metadata": {
  "kernelspec": {
   "display_name": "Python 3",
   "language": "python",
   "name": "python3"
  },
  "language_info": {
   "codemirror_mode": {
    "name": "ipython",
    "version": 3
   },
   "file_extension": ".py",
   "mimetype": "text/x-python",
   "name": "python",
   "nbconvert_exporter": "python",
   "pygments_lexer": "ipython3",
   "version": "3.7.4"
  }
 },
 "nbformat": 4,
 "nbformat_minor": 2
}
