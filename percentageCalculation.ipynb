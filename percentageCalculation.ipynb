{
 "cells": [
  {
   "cell_type": "markdown",
   "metadata": {},
   "source": [
    "# Percentage Calculation"
   ]
  },
  {
   "cell_type": "code",
   "execution_count": null,
   "metadata": {},
   "outputs": [],
   "source": [
    "name = input(\"Enter your name: \")\n",
    "father_name = input(\"Enter your father_name: \")\n",
    "cs101 = input(\"Enter marks of CS101: \")\n",
    "cs201 = input(\"Enter marks of CS201: \")\n",
    "eng101 = input(\"Enter marks of ENG101: \")\n",
    "mth101 = input(\"Enter marks of MTH101: \")\n",
    "isl201 = input(\"Enter marks of ISL201: \")\n",
    "pak301 = input(\"Enter marks of PAK301: \")\n",
    "total_marks = int(cs101) + int(cs201) + int(eng101) + int(mth101) + int(isl201) + int(pak301)\n",
    "percentage = (total_marks * 100) / 600\n",
    "message = \"\"\"\n",
    "Name: {}\n",
    "father_name: {}\n",
    "Marks_of_CS101: {}\n",
    "Marks_of_CS201: {}\n",
    "Marks_of_ENG101: {}\n",
    "Marks_of_MTH101: {}\n",
    "Marks_of_ISL201: {}\n",
    "Marks_of_PAk301: {}\n",
    "\"\"\"\n",
    "message1 = message.format(name, father_name, cs101, cs201, eng101, mth101, isl201, pak301)\n",
    "print(message1)\n",
    "print(\"total marks= \", total_marks)\n",
    "print(\"Percentage= \", percentage, \"%\")"
   ]
  }
 ],
 "metadata": {
  "kernelspec": {
   "display_name": "Python 3",
   "language": "python",
   "name": "python3"
  },
  "language_info": {
   "codemirror_mode": {
    "name": "ipython",
    "version": 3
   },
   "file_extension": ".py",
   "mimetype": "text/x-python",
   "name": "python",
   "nbconvert_exporter": "python",
   "pygments_lexer": "ipython3",
   "version": "3.7.4"
  }
 },
 "nbformat": 4,
 "nbformat_minor": 2
}
